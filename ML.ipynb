{
 "cells": [
  {
   "cell_type": "code",
   "execution_count": 53,
   "id": "7016c610",
   "metadata": {},
   "outputs": [],
   "source": [
    "import pandas as pd \n",
    "import nltk\n",
    "import string"
   ]
  },
  {
   "cell_type": "code",
   "execution_count": 54,
   "id": "c834cbaa",
   "metadata": {},
   "outputs": [],
   "source": [
    "df = pd.read_csv('charts.csv')"
   ]
  },
  {
   "cell_type": "code",
   "execution_count": 55,
   "id": "15aab36a",
   "metadata": {},
   "outputs": [
    {
     "name": "stdout",
     "output_type": "stream",
     "text": [
      "(330087, 7)\n"
     ]
    },
    {
     "data": {
      "text/html": [
       "<div>\n",
       "<style scoped>\n",
       "    .dataframe tbody tr th:only-of-type {\n",
       "        vertical-align: middle;\n",
       "    }\n",
       "\n",
       "    .dataframe tbody tr th {\n",
       "        vertical-align: top;\n",
       "    }\n",
       "\n",
       "    .dataframe thead th {\n",
       "        text-align: right;\n",
       "    }\n",
       "</style>\n",
       "<table border=\"1\" class=\"dataframe\">\n",
       "  <thead>\n",
       "    <tr style=\"text-align: right;\">\n",
       "      <th></th>\n",
       "      <th>date</th>\n",
       "      <th>rank</th>\n",
       "      <th>song</th>\n",
       "      <th>artist</th>\n",
       "      <th>last-week</th>\n",
       "      <th>peak-rank</th>\n",
       "      <th>weeks-on-board</th>\n",
       "    </tr>\n",
       "  </thead>\n",
       "  <tbody>\n",
       "    <tr>\n",
       "      <th>0</th>\n",
       "      <td>11/6/2021</td>\n",
       "      <td>1</td>\n",
       "      <td>Easy On Me</td>\n",
       "      <td>Adele</td>\n",
       "      <td>1.0</td>\n",
       "      <td>1</td>\n",
       "      <td>3</td>\n",
       "    </tr>\n",
       "    <tr>\n",
       "      <th>1</th>\n",
       "      <td>11/6/2021</td>\n",
       "      <td>2</td>\n",
       "      <td>Stay</td>\n",
       "      <td>The Kid LAROI &amp; Justin Bieber</td>\n",
       "      <td>2.0</td>\n",
       "      <td>1</td>\n",
       "      <td>16</td>\n",
       "    </tr>\n",
       "    <tr>\n",
       "      <th>2</th>\n",
       "      <td>11/6/2021</td>\n",
       "      <td>3</td>\n",
       "      <td>Industry Baby</td>\n",
       "      <td>Lil Nas X &amp; Jack Harlow</td>\n",
       "      <td>3.0</td>\n",
       "      <td>1</td>\n",
       "      <td>14</td>\n",
       "    </tr>\n",
       "    <tr>\n",
       "      <th>3</th>\n",
       "      <td>11/6/2021</td>\n",
       "      <td>4</td>\n",
       "      <td>Fancy Like</td>\n",
       "      <td>Walker Hayes</td>\n",
       "      <td>4.0</td>\n",
       "      <td>3</td>\n",
       "      <td>19</td>\n",
       "    </tr>\n",
       "    <tr>\n",
       "      <th>4</th>\n",
       "      <td>11/6/2021</td>\n",
       "      <td>5</td>\n",
       "      <td>Bad Habits</td>\n",
       "      <td>Ed Sheeran</td>\n",
       "      <td>5.0</td>\n",
       "      <td>2</td>\n",
       "      <td>18</td>\n",
       "    </tr>\n",
       "  </tbody>\n",
       "</table>\n",
       "</div>"
      ],
      "text/plain": [
       "        date  rank           song                         artist  last-week  \\\n",
       "0  11/6/2021     1     Easy On Me                          Adele        1.0   \n",
       "1  11/6/2021     2           Stay  The Kid LAROI & Justin Bieber        2.0   \n",
       "2  11/6/2021     3  Industry Baby        Lil Nas X & Jack Harlow        3.0   \n",
       "3  11/6/2021     4     Fancy Like                   Walker Hayes        4.0   \n",
       "4  11/6/2021     5     Bad Habits                     Ed Sheeran        5.0   \n",
       "\n",
       "   peak-rank  weeks-on-board  \n",
       "0          1               3  \n",
       "1          1              16  \n",
       "2          1              14  \n",
       "3          3              19  \n",
       "4          2              18  "
      ]
     },
     "execution_count": 55,
     "metadata": {},
     "output_type": "execute_result"
    }
   ],
   "source": [
    "print (df.shape) ; df.head()"
   ]
  },
  {
   "cell_type": "code",
   "execution_count": 60,
   "id": "70a6da9c",
   "metadata": {},
   "outputs": [
    {
     "data": {
      "text/html": [
       "<div>\n",
       "<style scoped>\n",
       "    .dataframe tbody tr th:only-of-type {\n",
       "        vertical-align: middle;\n",
       "    }\n",
       "\n",
       "    .dataframe tbody tr th {\n",
       "        vertical-align: top;\n",
       "    }\n",
       "\n",
       "    .dataframe thead th {\n",
       "        text-align: right;\n",
       "    }\n",
       "</style>\n",
       "<table border=\"1\" class=\"dataframe\">\n",
       "  <thead>\n",
       "    <tr style=\"text-align: right;\">\n",
       "      <th></th>\n",
       "      <th>date</th>\n",
       "      <th>rank</th>\n",
       "      <th>song</th>\n",
       "      <th>artist</th>\n",
       "      <th>last-week</th>\n",
       "      <th>peak-rank</th>\n",
       "      <th>weeks-on-board</th>\n",
       "    </tr>\n",
       "  </thead>\n",
       "  <tbody>\n",
       "    <tr>\n",
       "      <th>0</th>\n",
       "      <td>11/6/2021</td>\n",
       "      <td>1</td>\n",
       "      <td>Easy On Me</td>\n",
       "      <td>Adele</td>\n",
       "      <td>1.0</td>\n",
       "      <td>1</td>\n",
       "      <td>3</td>\n",
       "    </tr>\n",
       "    <tr>\n",
       "      <th>1</th>\n",
       "      <td>11/6/2021</td>\n",
       "      <td>2</td>\n",
       "      <td>Stay</td>\n",
       "      <td>The Kid LAROI &amp; Justin Bieber</td>\n",
       "      <td>2.0</td>\n",
       "      <td>1</td>\n",
       "      <td>16</td>\n",
       "    </tr>\n",
       "    <tr>\n",
       "      <th>2</th>\n",
       "      <td>11/6/2021</td>\n",
       "      <td>3</td>\n",
       "      <td>Industry Baby</td>\n",
       "      <td>Lil Nas X &amp; Jack Harlow</td>\n",
       "      <td>3.0</td>\n",
       "      <td>1</td>\n",
       "      <td>14</td>\n",
       "    </tr>\n",
       "    <tr>\n",
       "      <th>3</th>\n",
       "      <td>11/6/2021</td>\n",
       "      <td>4</td>\n",
       "      <td>Fancy Like</td>\n",
       "      <td>Walker Hayes</td>\n",
       "      <td>4.0</td>\n",
       "      <td>3</td>\n",
       "      <td>19</td>\n",
       "    </tr>\n",
       "    <tr>\n",
       "      <th>4</th>\n",
       "      <td>11/6/2021</td>\n",
       "      <td>5</td>\n",
       "      <td>Bad Habits</td>\n",
       "      <td>Ed Sheeran</td>\n",
       "      <td>5.0</td>\n",
       "      <td>2</td>\n",
       "      <td>18</td>\n",
       "    </tr>\n",
       "    <tr>\n",
       "      <th>5</th>\n",
       "      <td>11/6/2021</td>\n",
       "      <td>6</td>\n",
       "      <td>Way 2 Sexy</td>\n",
       "      <td>Drake Featuring Future &amp; Young Thug</td>\n",
       "      <td>6.0</td>\n",
       "      <td>1</td>\n",
       "      <td>8</td>\n",
       "    </tr>\n",
       "    <tr>\n",
       "      <th>6</th>\n",
       "      <td>11/6/2021</td>\n",
       "      <td>7</td>\n",
       "      <td>Shivers</td>\n",
       "      <td>Ed Sheeran</td>\n",
       "      <td>9.0</td>\n",
       "      <td>7</td>\n",
       "      <td>7</td>\n",
       "    </tr>\n",
       "    <tr>\n",
       "      <th>7</th>\n",
       "      <td>11/6/2021</td>\n",
       "      <td>8</td>\n",
       "      <td>Good 4 U</td>\n",
       "      <td>Olivia Rodrigo</td>\n",
       "      <td>7.0</td>\n",
       "      <td>1</td>\n",
       "      <td>24</td>\n",
       "    </tr>\n",
       "    <tr>\n",
       "      <th>8</th>\n",
       "      <td>11/6/2021</td>\n",
       "      <td>9</td>\n",
       "      <td>Need To Know</td>\n",
       "      <td>Doja Cat</td>\n",
       "      <td>11.0</td>\n",
       "      <td>9</td>\n",
       "      <td>20</td>\n",
       "    </tr>\n",
       "    <tr>\n",
       "      <th>9</th>\n",
       "      <td>11/6/2021</td>\n",
       "      <td>10</td>\n",
       "      <td>Levitating</td>\n",
       "      <td>Dua Lipa</td>\n",
       "      <td>8.0</td>\n",
       "      <td>2</td>\n",
       "      <td>56</td>\n",
       "    </tr>\n",
       "  </tbody>\n",
       "</table>\n",
       "</div>"
      ],
      "text/plain": [
       "        date  rank           song                               artist  \\\n",
       "0  11/6/2021     1     Easy On Me                                Adele   \n",
       "1  11/6/2021     2           Stay        The Kid LAROI & Justin Bieber   \n",
       "2  11/6/2021     3  Industry Baby              Lil Nas X & Jack Harlow   \n",
       "3  11/6/2021     4     Fancy Like                         Walker Hayes   \n",
       "4  11/6/2021     5     Bad Habits                           Ed Sheeran   \n",
       "5  11/6/2021     6     Way 2 Sexy  Drake Featuring Future & Young Thug   \n",
       "6  11/6/2021     7        Shivers                           Ed Sheeran   \n",
       "7  11/6/2021     8       Good 4 U                       Olivia Rodrigo   \n",
       "8  11/6/2021     9   Need To Know                             Doja Cat   \n",
       "9  11/6/2021    10     Levitating                             Dua Lipa   \n",
       "\n",
       "   last-week  peak-rank  weeks-on-board  \n",
       "0        1.0          1               3  \n",
       "1        2.0          1              16  \n",
       "2        3.0          1              14  \n",
       "3        4.0          3              19  \n",
       "4        5.0          2              18  \n",
       "5        6.0          1               8  \n",
       "6        9.0          7               7  \n",
       "7        7.0          1              24  \n",
       "8       11.0          9              20  \n",
       "9        8.0          2              56  "
      ]
     },
     "execution_count": 60,
     "metadata": {},
     "output_type": "execute_result"
    }
   ],
   "source": [
    "df.head(10)"
   ]
  },
  {
   "cell_type": "code",
   "execution_count": 62,
   "id": "54636954",
   "metadata": {},
   "outputs": [
    {
     "data": {
      "text/plain": [
       "Index(['date', 'rank', 'song', 'artist', 'last-week', 'peak-rank',\n",
       "       'weeks-on-board'],\n",
       "      dtype='object')"
      ]
     },
     "execution_count": 62,
     "metadata": {},
     "output_type": "execute_result"
    }
   ],
   "source": [
    "df.columns"
   ]
  },
  {
   "cell_type": "code",
   "execution_count": 63,
   "id": "50a4011b",
   "metadata": {},
   "outputs": [
    {
     "data": {
      "text/plain": [
       "RangeIndex(start=0, stop=330087, step=1)"
      ]
     },
     "execution_count": 63,
     "metadata": {},
     "output_type": "execute_result"
    }
   ],
   "source": [
    "df.index"
   ]
  },
  {
   "cell_type": "code",
   "execution_count": 65,
   "id": "afbc6e69",
   "metadata": {},
   "outputs": [
    {
     "data": {
      "text/plain": [
       "date               3301\n",
       "rank                100\n",
       "song              24620\n",
       "artist            10205\n",
       "last-week           100\n",
       "peak-rank           100\n",
       "weeks-on-board       90\n",
       "dtype: int64"
      ]
     },
     "execution_count": 65,
     "metadata": {},
     "output_type": "execute_result"
    }
   ],
   "source": [
    "df.nunique()"
   ]
  }
 ],
 "metadata": {
  "kernelspec": {
   "display_name": "base",
   "language": "python",
   "name": "python3"
  },
  "language_info": {
   "codemirror_mode": {
    "name": "ipython",
    "version": 3
   },
   "file_extension": ".py",
   "mimetype": "text/x-python",
   "name": "python",
   "nbconvert_exporter": "python",
   "pygments_lexer": "ipython3",
   "version": "3.9.13 (main, Aug 25 2022, 23:51:50) [MSC v.1916 64 bit (AMD64)]"
  },
  "vscode": {
   "interpreter": {
    "hash": "263930470851f494f0ed2879c35b57985588df20f9e529b86e97dd5eb9ddc466"
   }
  }
 },
 "nbformat": 4,
 "nbformat_minor": 5
}
